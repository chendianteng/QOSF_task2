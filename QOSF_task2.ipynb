{
 "cells": [
  {
   "cell_type": "markdown",
   "metadata": {},
   "source": [
    "# QOSF Mentorship Program Screening Task 2"
   ]
  },
  {
   "cell_type": "markdown",
   "metadata": {},
   "source": [
    "Implement a circuit that returns |01> and |10> with equal probability (50% for each).\n",
    "\n",
    "Requirements :\n",
    "The circuit should consist only of CNOTs, RXs and RYs. \n",
    "Start from all parameters in parametric gates being equal to 0 or randomly chosen. \t\n",
    "You should find the right set of parameters using gradient descent (you can use more advanced optimization methods if you like). \n",
    "Simulations must be done with sampling (i.e. a limited number of measurements per iteration) and noise. \n",
    "\n",
    "Compare the results for different numbers of measurements: 1, 10, 100, 1000. \n",
    "\n",
    "Bonus question:\n",
    "How to make sure you produce state |01> + |10> and not |01> - |10> ?\n",
    "\n",
    "(Actually for more careful readers, the “correct” version of this question is posted below:\n",
    "How to make sure you produce state  |01⟩  +  |10⟩  and not any other combination of |01> + e(i*phi)|10⟩ (for example |01⟩  -  |10⟩)?)"
   ]
  },
  {
   "cell_type": "markdown",
   "metadata": {},
   "source": [
    "## 1. Import modules"
   ]
  },
  {
   "cell_type": "code",
   "execution_count": 388,
   "metadata": {},
   "outputs": [],
   "source": [
    "import cirq\n",
    "import numpy as np\n",
    "from numpy import pi\n",
    "import random"
   ]
  },
  {
   "cell_type": "markdown",
   "metadata": {},
   "source": [
    "##  2. Initialize two quibits q0 and q1 in both |0> state"
   ]
  },
  {
   "cell_type": "code",
   "execution_count": 347,
   "metadata": {},
   "outputs": [],
   "source": [
    "q0,q1=[cirq.LineQubit(x) for x in range(2)]"
   ]
  },
  {
   "cell_type": "markdown",
   "metadata": {},
   "source": [
    "## 3. Create a circuit that consist only of RX, RY and CNOT\n",
    "We can create a circuit in which we operates Ry on q0 and Rx on q1 and then operate CNOT to them.\n",
    "The parameters for RX and RY are thetaX and thetaY.\n",
    "Now our problem is reduced to find the thetaX and thetaY for the intended output of the circuit. "
   ]
  },
  {
   "cell_type": "code",
   "execution_count": 480,
   "metadata": {},
   "outputs": [],
   "source": [
    "#In this function, we measure the output of the circuit \n",
    "#(Let's include the measurement for now. We can get rid of the measurement later)\n",
    "def createCircuit(thetaX,thetaY):\n",
    "    circ=cirq.Circuit()\n",
    "    circ.append([cirq.ry(thetaY)(q0),cirq.rx(thetaX)(q1),cirq.CNOT(q0,q1),cirq.measure(q0),cirq.measure(q1)])\n",
    "    return circ"
   ]
  },
  {
   "cell_type": "markdown",
   "metadata": {},
   "source": [
    "This is what the circuit look like (with measurement operation on the output) :"
   ]
  },
  {
   "cell_type": "code",
   "execution_count": 481,
   "metadata": {},
   "outputs": [
    {
     "name": "stdout",
     "output_type": "stream",
     "text": [
      "0: ───Ry(0.0π)───@───M───\n",
      "                 │\n",
      "1: ───Rx(0.0π)───X───M───\n"
     ]
    }
   ],
   "source": [
    "#Example: thetaX=thetaY=0\n",
    "print(createCircuit(0,0))"
   ]
  },
  {
   "cell_type": "markdown",
   "metadata": {},
   "source": [
    "## 4. Simulation and evaluation of the circuit"
   ]
  },
  {
   "cell_type": "markdown",
   "metadata": {},
   "source": [
    "### 4.1 Run simulation with cirq simulator with noise"
   ]
  },
  {
   "cell_type": "code",
   "execution_count": 490,
   "metadata": {},
   "outputs": [],
   "source": [
    "def simulationResults(circ,repetitions=10000):\n",
    "    return cirq.Simulator().run(circ,repetitions=repetitions).data "
   ]
  },
  {
   "cell_type": "markdown",
   "metadata": {},
   "source": [
    "An example of the results of simulation for 100 repetitions with thetaX=thetaY=2:"
   ]
  },
  {
   "cell_type": "code",
   "execution_count": 673,
   "metadata": {},
   "outputs": [],
   "source": [
    "circ0=createCircuit(2,2)\n",
    "results=simulationResults(circ0,repetitions=100)"
   ]
  },
  {
   "cell_type": "code",
   "execution_count": 674,
   "metadata": {},
   "outputs": [
    {
     "data": {
      "text/html": [
       "<div>\n",
       "<style scoped>\n",
       "    .dataframe tbody tr th:only-of-type {\n",
       "        vertical-align: middle;\n",
       "    }\n",
       "\n",
       "    .dataframe tbody tr th {\n",
       "        vertical-align: top;\n",
       "    }\n",
       "\n",
       "    .dataframe thead th {\n",
       "        text-align: right;\n",
       "    }\n",
       "</style>\n",
       "<table border=\"1\" class=\"dataframe\">\n",
       "  <thead>\n",
       "    <tr style=\"text-align: right;\">\n",
       "      <th></th>\n",
       "      <th>0</th>\n",
       "      <th>1</th>\n",
       "    </tr>\n",
       "  </thead>\n",
       "  <tbody>\n",
       "    <tr>\n",
       "      <th>0</th>\n",
       "      <td>1</td>\n",
       "      <td>0</td>\n",
       "    </tr>\n",
       "    <tr>\n",
       "      <th>1</th>\n",
       "      <td>0</td>\n",
       "      <td>1</td>\n",
       "    </tr>\n",
       "    <tr>\n",
       "      <th>2</th>\n",
       "      <td>0</td>\n",
       "      <td>1</td>\n",
       "    </tr>\n",
       "    <tr>\n",
       "      <th>3</th>\n",
       "      <td>0</td>\n",
       "      <td>1</td>\n",
       "    </tr>\n",
       "    <tr>\n",
       "      <th>4</th>\n",
       "      <td>0</td>\n",
       "      <td>1</td>\n",
       "    </tr>\n",
       "    <tr>\n",
       "      <th>...</th>\n",
       "      <td>...</td>\n",
       "      <td>...</td>\n",
       "    </tr>\n",
       "    <tr>\n",
       "      <th>95</th>\n",
       "      <td>0</td>\n",
       "      <td>1</td>\n",
       "    </tr>\n",
       "    <tr>\n",
       "      <th>96</th>\n",
       "      <td>1</td>\n",
       "      <td>0</td>\n",
       "    </tr>\n",
       "    <tr>\n",
       "      <th>97</th>\n",
       "      <td>1</td>\n",
       "      <td>1</td>\n",
       "    </tr>\n",
       "    <tr>\n",
       "      <th>98</th>\n",
       "      <td>0</td>\n",
       "      <td>0</td>\n",
       "    </tr>\n",
       "    <tr>\n",
       "      <th>99</th>\n",
       "      <td>1</td>\n",
       "      <td>0</td>\n",
       "    </tr>\n",
       "  </tbody>\n",
       "</table>\n",
       "<p>100 rows × 2 columns</p>\n",
       "</div>"
      ],
      "text/plain": [
       "    0  1\n",
       "0   1  0\n",
       "1   0  1\n",
       "2   0  1\n",
       "3   0  1\n",
       "4   0  1\n",
       ".. .. ..\n",
       "95  0  1\n",
       "96  1  0\n",
       "97  1  1\n",
       "98  0  0\n",
       "99  1  0\n",
       "\n",
       "[100 rows x 2 columns]"
      ]
     },
     "execution_count": 674,
     "metadata": {},
     "output_type": "execute_result"
    }
   ],
   "source": [
    "results"
   ]
  },
  {
   "cell_type": "markdown",
   "metadata": {},
   "source": [
    "### 4.2 Cost function\n",
    "In order to evaulate the circuit, we can define a cost function to calculate the different between the output state (before the measurement)and the |01> + |10> state.\n",
    "In |01> + |10> state, both |01> and |10>) have a probability of 0.5 to be measured.\n",
    "So we can define the cost function as:\n",
    "abs(prob(|01>)-0.5)+abs(prob(|10>)-0.5)"
   ]
  },
  {
   "cell_type": "code",
   "execution_count": 494,
   "metadata": {},
   "outputs": [],
   "source": [
    "#Given a set of measurement results, return the cost of the circuit\n",
    "def cost(results):\n",
    "    repetitions=len(results)\n",
    "    state01_count=len(results[(results[\"0\"]==0) & (results[\"1\"]==1)]) #counting the number of |01> results\n",
    "    state10_count=len(results[(results[\"0\"]==1) & (results[\"1\"]==0)]) #counting the number of |10> results\n",
    "    #return the sum of the different of the probabilities of the two states\n",
    "    return np.abs(state01_count/repetitions-0.5)+np.abs(state10_count/repetitions-0.5)"
   ]
  },
  {
   "cell_type": "code",
   "execution_count": 495,
   "metadata": {},
   "outputs": [
    {
     "data": {
      "text/plain": [
       "0.26"
      ]
     },
     "execution_count": 495,
     "metadata": {},
     "output_type": "execute_result"
    }
   ],
   "source": [
    "cost(results)"
   ]
  },
  {
   "cell_type": "markdown",
   "metadata": {},
   "source": [
    "## 5. Optimization"
   ]
  },
  {
   "cell_type": "markdown",
   "metadata": {},
   "source": [
    "### 5.1 Calculate the gradient of the cost function\n",
    "To run gradient descent, we first need to calculate the partial derivatives of the cost function with respect to thetaX and thetaY for a certain stepsize."
   ]
  },
  {
   "cell_type": "code",
   "execution_count": 497,
   "metadata": {},
   "outputs": [],
   "source": [
    "# Calculate the partial derivatives of the cost function with respect to thetaX and thetaY, for any given thetaX and thetaY.\n",
    "def grad(thetaX,thetaY,stepsize=0.01,repetitions=10000):\n",
    "    old_cost=cost(simulationResults(createCircuit(thetaX,thetaY),repetitions=repetitions))\n",
    "    new_cost_x=cost(simulationResults(createCircuit(thetaX+stepsize,thetaY),repetitions=repetitions))\n",
    "    new_cost_y=cost(simulationResults(createCircuit(thetaX,thetaY+stepsize),repetitions=repetitions))\n",
    "    return (new_cost_x-old_cost)/stepsize,(new_cost_y-old_cost)/stepsize"
   ]
  },
  {
   "cell_type": "code",
   "execution_count": 612,
   "metadata": {},
   "outputs": [
    {
     "data": {
      "text/plain": [
       "(5.000000000000004, 6.000000000000005)"
      ]
     },
     "execution_count": 612,
     "metadata": {},
     "output_type": "execute_result"
    }
   ],
   "source": [
    "grad(0.4,0.5,stepsize=0.01,repetitions=100)"
   ]
  },
  {
   "cell_type": "markdown",
   "metadata": {},
   "source": [
    "### 5.2 Running the optimization"
   ]
  },
  {
   "cell_type": "markdown",
   "metadata": {},
   "source": [
    "We can minimize the cost function by using gradient descent."
   ]
  },
  {
   "cell_type": "code",
   "execution_count": 632,
   "metadata": {},
   "outputs": [],
   "source": [
    "#return the optimized thetaX and thetaY by using gradient descent to minimize the cost function\n",
    "def optimization(learning_rate=0.05):\n",
    "    #initial values for thetaX and thetaY\n",
    "    thetaX=random.random()*2*pi\n",
    "    thetaY=random.random()*2*pi\n",
    "    iterations=0\n",
    "    #calculate the cost\n",
    "    current_cost=cost(simulationResults(createCircuit(thetaX,thetaY),repetitions=10000))\n",
    "    print(\"------------------- Iteration: \",iterations,\"-------------------\")\n",
    "    print(\"Cost:\",current_cost,\"\\nthetaX:\",thetaX,\" thetaY:\",thetaY)\n",
    "    while(current_cost>0.01):\n",
    "        \n",
    "        #use smaller learning rates as the cost gets smaller\n",
    "        if current_cost<0.5:\n",
    "            learning_rate=0.1\n",
    "        if current_cost<0.1:\n",
    "            learning_rate=0.02\n",
    "        if current_cost<0.02:\n",
    "            learning_rate=0.004\n",
    "        iterations+=1\n",
    "        #calculate the partial derivatives\n",
    "        d_thetaX,d_thetaY=grad(thetaX,thetaY,stepsize=0.01,repetitions=10000)\n",
    "        #update thetaX and thetaY\n",
    "        thetaX=thetaX-d_thetaX*learning_rate\n",
    "        thetaY=thetaY-d_thetaY*learning_rate\n",
    "        current_cost=cost(simulationResults(createCircuit(thetaX,thetaY),repetitions=10000))\n",
    "        print(\"------------------- Iteration: \",iterations,\"-------------------\")\n",
    "        print(\"Cost:\",current_cost)\n",
    "        print(\"thetaX:\",thetaX,\" thetaY:\",thetaY)\n",
    "    return thetaX,thetaY"
   ]
  },
  {
   "cell_type": "code",
   "execution_count": 633,
   "metadata": {},
   "outputs": [
    {
     "name": "stdout",
     "output_type": "stream",
     "text": [
      "------------------- Iteration:  0 -------------------\n",
      "Cost: 0.5742 \n",
      "thetaX: 1.4263174255158708  thetaY: 1.9919961128761143\n",
      "------------------- Iteration:  1 -------------------\n",
      "Cost: 0.5419\n",
      "thetaX: 1.4683174255158713  thetaY: 1.9969961128761144\n",
      "------------------- Iteration:  2 -------------------\n",
      "Cost: 0.5581\n",
      "thetaX: 1.451317425515872  thetaY: 1.970996112876115\n",
      "------------------- Iteration:  3 -------------------\n",
      "Cost: 0.5429999999999999\n",
      "thetaX: 1.4858174255158727  thetaY: 2.001496112876115\n",
      "------------------- Iteration:  4 -------------------\n",
      "Cost: 0.5287\n",
      "thetaX: 1.5143174255158725  thetaY: 2.0084961128761147\n",
      "------------------- Iteration:  5 -------------------\n",
      "Cost: 0.5289\n",
      "thetaX: 1.5068174255158722  thetaY: 1.9424961128761142\n",
      "------------------- Iteration:  6 -------------------\n",
      "Cost: 0.5052\n",
      "thetaX: 1.5703174255158718  thetaY: 2.011496112876114\n",
      "------------------- Iteration:  7 -------------------\n",
      "Cost: 0.49039999999999995\n",
      "thetaX: 1.6113174255158718  thetaY: 1.9834961128761137\n",
      "------------------- Iteration:  8 -------------------\n",
      "Cost: 0.406\n",
      "thetaX: 1.764317425515872  thetaY: 2.131496112876114\n",
      "------------------- Iteration:  9 -------------------\n",
      "Cost: 0.35419999999999996\n",
      "thetaX: 1.8613174255158724  thetaY: 2.056496112876114\n",
      "------------------- Iteration:  10 -------------------\n",
      "Cost: 0.3622\n",
      "thetaX: 1.9733174255158723  thetaY: 2.116496112876114\n",
      "------------------- Iteration:  11 -------------------\n",
      "Cost: 0.43820000000000003\n",
      "thetaX: 2.102317425515872  thetaY: 2.201496112876114\n",
      "------------------- Iteration:  12 -------------------\n",
      "Cost: 0.5471\n",
      "thetaX: 2.261317425515872  thetaY: 2.295496112876113\n",
      "------------------- Iteration:  13 -------------------\n",
      "Cost: 0.5309\n",
      "thetaX: 2.339317425515871  thetaY: 2.2454961128761117\n",
      "------------------- Iteration:  14 -------------------\n",
      "Cost: 0.6852\n",
      "thetaX: 2.55531742551587  thetaY: 2.4074961128761116\n",
      "------------------- Iteration:  15 -------------------\n",
      "Cost: 0.7079\n",
      "thetaX: 2.518317425515871  thetaY: 2.455496112876112\n",
      "------------------- Iteration:  16 -------------------\n",
      "Cost: 0.6680999999999999\n",
      "thetaX: 2.530317425515872  thetaY: 2.3934961128761123\n",
      "------------------- Iteration:  17 -------------------\n",
      "Cost: 0.6718999999999999\n",
      "thetaX: 2.4643174255158717  thetaY: 2.426496112876112\n",
      "------------------- Iteration:  18 -------------------\n",
      "Cost: 0.5892999999999999\n",
      "thetaX: 2.5653174255158717  thetaY: 2.2814961128761118\n",
      "------------------- Iteration:  19 -------------------\n",
      "Cost: 0.5214000000000001\n",
      "thetaX: 2.582317425515871  thetaY: 2.1844961128761113\n",
      "------------------- Iteration:  20 -------------------\n",
      "Cost: 0.5333\n",
      "thetaX: 2.616317425515871  thetaY: 2.18349611287611\n",
      "------------------- Iteration:  21 -------------------\n",
      "Cost: 0.5273\n",
      "thetaX: 2.7293174255158705  thetaY: 2.1334961128761103\n",
      "------------------- Iteration:  22 -------------------\n",
      "Cost: 0.32499999999999996\n",
      "thetaX: 2.7823174255158714  thetaY: 1.9234961128761112\n",
      "------------------- Iteration:  23 -------------------\n",
      "Cost: 0.30530000000000007\n",
      "thetaX: 2.994317425515871  thetaY: 1.8934961128761119\n",
      "------------------- Iteration:  24 -------------------\n",
      "Cost: 0.33499999999999996\n",
      "thetaX: 3.074317425515871  thetaY: 1.9004961128761115\n",
      "------------------- Iteration:  25 -------------------\n",
      "Cost: 0.33969999999999995\n",
      "thetaX: 3.221317425515871  thetaY: 1.9094961128761117\n",
      "------------------- Iteration:  26 -------------------\n",
      "Cost: 0.12720000000000004\n",
      "thetaX: 3.2413174255158705  thetaY: 1.700496112876111\n",
      "------------------- Iteration:  27 -------------------\n",
      "Cost: 0.027400000000000035\n",
      "thetaX: 3.3083174255158703  thetaY: 1.6204961128761104\n",
      "------------------- Iteration:  28 -------------------\n",
      "Cost: 0.014700000000000046\n",
      "thetaX: 3.26851742551587  thetaY: 1.5768961128761103\n",
      "------------------- Iteration:  29 -------------------\n",
      "Cost: 0.003200000000000036\n",
      "thetaX: 3.2722774255158704  thetaY: 1.5711361128761103\n"
     ]
    }
   ],
   "source": [
    "#runt the optimization to get thetaX and thetaY\n",
    "thetaX,thetaY=optimization()"
   ]
  },
  {
   "cell_type": "markdown",
   "metadata": {},
   "source": [
    "### 6. Results and discussions\n",
    "#### 6.1 After the optimization, we get the thetaX and thetaY as follows:"
   ]
  },
  {
   "cell_type": "code",
   "execution_count": 634,
   "metadata": {},
   "outputs": [
    {
     "name": "stdout",
     "output_type": "stream",
     "text": [
      "3.2722774255158704 1.5711361128761103\n"
     ]
    }
   ],
   "source": [
    "print(thetaX,thetaY)"
   ]
  },
  {
   "cell_type": "markdown",
   "metadata": {},
   "source": [
    " #### we get:\n",
    " \n",
    " thetaX = 3.2722774255158704 $\\approx$ pi\n",
    " \n",
    " thetaY= 1.5711361128761103 $\\approx$ pi/2"
   ]
  },
  {
   "cell_type": "markdown",
   "metadata": {},
   "source": [
    "#### Compare the results for different numbers of measurements: 1, 10, 100, 1000."
   ]
  },
  {
   "cell_type": "code",
   "execution_count": 665,
   "metadata": {},
   "outputs": [],
   "source": [
    "circ_final=createCircuit(3.2722774255158704,1.5711361128761103) # using the values we get for thetaX and thetaY"
   ]
  },
  {
   "cell_type": "code",
   "execution_count": 666,
   "metadata": {},
   "outputs": [
    {
     "name": "stdout",
     "output_type": "stream",
     "text": [
      "0: ───Ry(0.5π)─────@───M───\n",
      "                   │\n",
      "1: ───Rx(1.042π)───X───M───\n"
     ]
    }
   ],
   "source": [
    "print(circ_final)"
   ]
  },
  {
   "cell_type": "code",
   "execution_count": 670,
   "metadata": {},
   "outputs": [
    {
     "data": {
      "image/png": "[encoded data removed]",
      "text/plain": [
       "<Figure size 432x288 with 1 Axes>"
      ]
     },
     "metadata": {
      "needs_background": "light"
     },
     "output_type": "display_data"
    },
    {
     "data": {
      "image/png": "[encoded data removed]",
      "text/plain": [
       "<Figure size 432x288 with 1 Axes>"
      ]
     },
     "metadata": {
      "needs_background": "light"
     },
     "output_type": "display_data"
    },
    {
     "data": {
      "image/png": "[encoded data removed]",
      "text/plain": [
       "<Figure size 432x288 with 1 Axes>"
      ]
     },
     "metadata": {
      "needs_background": "light"
     },
     "output_type": "display_data"
    },
    {
     "data": {
      "image/png": "[encoded data removed]",
      "text/plain": [
       "<Figure size 432x288 with 1 Axes>"
      ]
     },
     "metadata": {
      "needs_background": "light"
     },
     "output_type": "display_data"
    },
    {
     "data": {
      "text/plain": [
       "array([  1., 503., 495.,   1.])"
      ]
     },
     "execution_count": 670,
     "metadata": {},
     "output_type": "execute_result"
    }
   ],
   "source": [
    "#print the histogram for different numbers of measurements: 1, 10, 100, 1000.\n",
    "cirq.plot_state_histogram(cirq.Simulator().run(circ_final,repetitions=1))\n",
    "cirq.plot_state_histogram(cirq.Simulator().run(circ_final,repetitions=10))\n",
    "cirq.plot_state_histogram(cirq.Simulator().run(circ_final,repetitions=100))\n",
    "cirq.plot_state_histogram(cirq.Simulator().run(circ_final,repetitions=1000))"
   ]
  },
  {
   "cell_type": "markdown",
   "metadata": {},
   "source": [
    "Counting results for 10000 measurements"
   ]
  },
  {
   "cell_type": "code",
   "execution_count": 672,
   "metadata": {},
   "outputs": [
    {
     "data": {
      "text/html": [
       "<div>\n",
       "<style scoped>\n",
       "    .dataframe tbody tr th:only-of-type {\n",
       "        vertical-align: middle;\n",
       "    }\n",
       "\n",
       "    .dataframe tbody tr th {\n",
       "        vertical-align: top;\n",
       "    }\n",
       "\n",
       "    .dataframe thead th {\n",
       "        text-align: right;\n",
       "    }\n",
       "</style>\n",
       "<table border=\"1\" class=\"dataframe\">\n",
       "  <thead>\n",
       "    <tr style=\"text-align: right;\">\n",
       "      <th></th>\n",
       "      <th>0</th>\n",
       "      <th>1</th>\n",
       "      <th>Count</th>\n",
       "    </tr>\n",
       "  </thead>\n",
       "  <tbody>\n",
       "    <tr>\n",
       "      <th>0</th>\n",
       "      <td>0</td>\n",
       "      <td>0</td>\n",
       "      <td>29</td>\n",
       "    </tr>\n",
       "    <tr>\n",
       "      <th>1</th>\n",
       "      <td>0</td>\n",
       "      <td>1</td>\n",
       "      <td>4952</td>\n",
       "    </tr>\n",
       "    <tr>\n",
       "      <th>2</th>\n",
       "      <td>1</td>\n",
       "      <td>0</td>\n",
       "      <td>4986</td>\n",
       "    </tr>\n",
       "    <tr>\n",
       "      <th>3</th>\n",
       "      <td>1</td>\n",
       "      <td>1</td>\n",
       "      <td>33</td>\n",
       "    </tr>\n",
       "  </tbody>\n",
       "</table>\n",
       "</div>"
      ],
      "text/plain": [
       "   0  1  Count\n",
       "0  0  0     29\n",
       "1  0  1   4952\n",
       "2  1  0   4986\n",
       "3  1  1     33"
      ]
     },
     "execution_count": 672,
     "metadata": {},
     "output_type": "execute_result"
    }
   ],
   "source": [
    "simulationResults(createCircuit(3.2722774255158704,1.5711361128761103),10000).groupby([\"0\",\"1\"]).size().reset_index(name=\"Count\")"
   ]
  },
  {
   "cell_type": "markdown",
   "metadata": {},
   "source": [
    "### 6.2 bonus discussion\n",
    "#### Depending on the initial value of the thetaX and thetaY and the iterations, the circuit we get may return either |01> + |10> or |01> - |10> \n",
    "#### We can check which one it is by doing a simulation without measurement and noise."
   ]
  },
  {
   "cell_type": "code",
   "execution_count": 675,
   "metadata": {},
   "outputs": [],
   "source": [
    "def createCircuitNoMeasurement(thetaX,thetaY):\n",
    "    circ=cirq.Circuit()\n",
    "    circ.append([cirq.ry(thetaY)(q0),cirq.rx(thetaX)(q1),cirq.CNOT(q0,q1)])\n",
    "    return circ"
   ]
  },
  {
   "cell_type": "code",
   "execution_count": 680,
   "metadata": {},
   "outputs": [
    {
     "name": "stdout",
     "output_type": "stream",
     "text": [
      "0: ───Ry(0.5π)───@───\n",
      "                 │\n",
      "1: ───Rx(π)──────X───\n"
     ]
    },
    {
     "data": {
      "text/plain": [
       "'-0.71j|01⟩ - 0.71j|10⟩'"
      ]
     },
     "execution_count": 680,
     "metadata": {},
     "output_type": "execute_result"
    }
   ],
   "source": [
    "# for checking porpuse, let's use pi instead of 3.2722774255158704 and pi/2 instead of 1.5711361128761103 to filter out other states\n",
    "circNoMeasurement=createCircuitNoMeasurement(pi ,pi/2)\n",
    "print(circNoMeasurement)\n",
    "cirq.Simulator().simulate(circNoMeasurement).dirac_notation()"
   ]
  },
  {
   "cell_type": "markdown",
   "metadata": {},
   "source": [
    "#### As the coefficients of |01> and |10> state are the same, we confirm that the above circuit returns |01> + |10>,  not |01> - |10>."
   ]
  },
  {
   "cell_type": "markdown",
   "metadata": {},
   "source": [
    "#### In some other optimizations, we may get thetaX=pi and thetaY = 3*pi/2 instead, that correspond to  |01> - |10>:"
   ]
  },
  {
   "cell_type": "code",
   "execution_count": 681,
   "metadata": {},
   "outputs": [
    {
     "name": "stdout",
     "output_type": "stream",
     "text": [
      "0: ───Ry(1.5π)───@───\n",
      "                 │\n",
      "1: ───Rx(π)──────X───\n"
     ]
    },
    {
     "data": {
      "text/plain": [
       "'0.71j|01⟩ - 0.71j|10⟩'"
      ]
     },
     "execution_count": 681,
     "metadata": {},
     "output_type": "execute_result"
    }
   ],
   "source": [
    "circNoMeasurement=createCircuitNoMeasurement(pi ,pi*3/2)\n",
    "print(circNoMeasurement)\n",
    "cirq.Simulator().simulate(circNoMeasurement).dirac_notation()"
   ]
  },
  {
   "cell_type": "code",
   "execution_count": null,
   "metadata": {},
   "outputs": [],
   "source": []
  }
 ],
 "metadata": {
  "kernelspec": {
   "display_name": "Python 3",
   "language": "python",
   "name": "python3"
  },
  "language_info": {
   "codemirror_mode": {
    "name": "ipython",
    "version": 3
   },
   "file_extension": ".py",
   "mimetype": "text/x-python",
   "name": "python",
   "nbconvert_exporter": "python",
   "pygments_lexer": "ipython3",
   "version": "3.7.0"
  }
 },
 "nbformat": 4,
 "nbformat_minor": 2
}
